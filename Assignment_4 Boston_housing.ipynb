{
  "cells": [
    {
      "cell_type": "code",
      "execution_count": 45,
      "id": "bbc177f0",
      "metadata": {
        "_cell_guid": "b1076dfc-b9ad-4769-8c92-a6c4dae69d19",
        "_uuid": "8f2839f25d086af736a60e9eeb907d3b93b6e0e5",
        "execution": {
          "iopub.execute_input": "2022-05-11T08:46:52.088976Z",
          "iopub.status.busy": "2022-05-11T08:46:52.088486Z",
          "iopub.status.idle": "2022-05-11T08:46:53.422495Z",
          "shell.execute_reply": "2022-05-11T08:46:53.421323Z"
        },
        "papermill": {
          "duration": 1.36952,
          "end_time": "2022-05-11T08:46:53.425773",
          "exception": false,
          "start_time": "2022-05-11T08:46:52.056253",
          "status": "completed"
        },
        "tags": [],
        "id": "bbc177f0"
      },
      "outputs": [],
      "source": [
        "import numpy as np \n",
        "import pandas as pd \n",
        "%matplotlib inline\n",
        "import matplotlib.pyplot as plt\n",
        "import seaborn as sns\n"
      ]
    },
    {
      "cell_type": "markdown",
      "id": "abe335f3",
      "metadata": {
        "papermill": {
          "duration": 0.029526,
          "end_time": "2022-05-11T08:46:53.486511",
          "exception": false,
          "start_time": "2022-05-11T08:46:53.456985",
          "status": "completed"
        },
        "tags": [],
        "id": "abe335f3"
      },
      "source": [
        "### Load the Data"
      ]
    },
    {
      "cell_type": "code",
      "execution_count": 46,
      "id": "5003bf27",
      "metadata": {
        "execution": {
          "iopub.execute_input": "2022-05-11T08:46:54.439162Z",
          "iopub.status.busy": "2022-05-11T08:46:54.438817Z",
          "iopub.status.idle": "2022-05-11T08:46:54.503395Z",
          "shell.execute_reply": "2022-05-11T08:46:54.502504Z"
        },
        "papermill": {
          "duration": 0.099439,
          "end_time": "2022-05-11T08:46:54.506047",
          "exception": false,
          "start_time": "2022-05-11T08:46:54.406608",
          "status": "completed"
        },
        "tags": [],
        "colab": {
          "base_uri": "https://localhost:8080/",
          "height": 206
        },
        "id": "5003bf27",
        "outputId": "25942144-25dc-4548-8753-e49d6312b8b0"
      },
      "outputs": [
        {
          "output_type": "execute_result",
          "data": {
            "text/plain": [
              "   ID     CRIM    ZN  INDUS  CHAS    NOX     RM    AGE     DIS  RAD    TAX  \\\n",
              "0   0  0.95577   0.0   8.14     0  0.538  6.047   88.8  4.4534    4  307.0   \n",
              "1   1  0.02875  28.0  15.04     0  0.464  6.211   28.9  3.6659    4  270.0   \n",
              "2   2  1.22358   0.0  19.58     0  0.605  6.943   97.4  1.8773    5  403.0   \n",
              "3   3  5.66637   0.0  18.10     0  0.740  6.219  100.0  2.0048   24  666.0   \n",
              "4   4  0.04544   0.0   3.24     0  0.460  6.144   32.2  5.8736    4  430.0   \n",
              "\n",
              "   PTRATIO       B  LSTAT  MEDV  \n",
              "0     21.0  306.38  17.28  14.8  \n",
              "1     18.2  396.33   6.21  25.0  \n",
              "2     14.7  363.43   4.59  41.3  \n",
              "3     20.2  395.69  16.59  18.4  \n",
              "4     16.9  368.57   9.09  19.8  "
            ],
            "text/html": [
              "\n",
              "  <div id=\"df-bb057150-f6cc-43f4-a2dc-48337aa7bb02\">\n",
              "    <div class=\"colab-df-container\">\n",
              "      <div>\n",
              "<style scoped>\n",
              "    .dataframe tbody tr th:only-of-type {\n",
              "        vertical-align: middle;\n",
              "    }\n",
              "\n",
              "    .dataframe tbody tr th {\n",
              "        vertical-align: top;\n",
              "    }\n",
              "\n",
              "    .dataframe thead th {\n",
              "        text-align: right;\n",
              "    }\n",
              "</style>\n",
              "<table border=\"1\" class=\"dataframe\">\n",
              "  <thead>\n",
              "    <tr style=\"text-align: right;\">\n",
              "      <th></th>\n",
              "      <th>ID</th>\n",
              "      <th>CRIM</th>\n",
              "      <th>ZN</th>\n",
              "      <th>INDUS</th>\n",
              "      <th>CHAS</th>\n",
              "      <th>NOX</th>\n",
              "      <th>RM</th>\n",
              "      <th>AGE</th>\n",
              "      <th>DIS</th>\n",
              "      <th>RAD</th>\n",
              "      <th>TAX</th>\n",
              "      <th>PTRATIO</th>\n",
              "      <th>B</th>\n",
              "      <th>LSTAT</th>\n",
              "      <th>MEDV</th>\n",
              "    </tr>\n",
              "  </thead>\n",
              "  <tbody>\n",
              "    <tr>\n",
              "      <th>0</th>\n",
              "      <td>0</td>\n",
              "      <td>0.95577</td>\n",
              "      <td>0.0</td>\n",
              "      <td>8.14</td>\n",
              "      <td>0</td>\n",
              "      <td>0.538</td>\n",
              "      <td>6.047</td>\n",
              "      <td>88.8</td>\n",
              "      <td>4.4534</td>\n",
              "      <td>4</td>\n",
              "      <td>307.0</td>\n",
              "      <td>21.0</td>\n",
              "      <td>306.38</td>\n",
              "      <td>17.28</td>\n",
              "      <td>14.8</td>\n",
              "    </tr>\n",
              "    <tr>\n",
              "      <th>1</th>\n",
              "      <td>1</td>\n",
              "      <td>0.02875</td>\n",
              "      <td>28.0</td>\n",
              "      <td>15.04</td>\n",
              "      <td>0</td>\n",
              "      <td>0.464</td>\n",
              "      <td>6.211</td>\n",
              "      <td>28.9</td>\n",
              "      <td>3.6659</td>\n",
              "      <td>4</td>\n",
              "      <td>270.0</td>\n",
              "      <td>18.2</td>\n",
              "      <td>396.33</td>\n",
              "      <td>6.21</td>\n",
              "      <td>25.0</td>\n",
              "    </tr>\n",
              "    <tr>\n",
              "      <th>2</th>\n",
              "      <td>2</td>\n",
              "      <td>1.22358</td>\n",
              "      <td>0.0</td>\n",
              "      <td>19.58</td>\n",
              "      <td>0</td>\n",
              "      <td>0.605</td>\n",
              "      <td>6.943</td>\n",
              "      <td>97.4</td>\n",
              "      <td>1.8773</td>\n",
              "      <td>5</td>\n",
              "      <td>403.0</td>\n",
              "      <td>14.7</td>\n",
              "      <td>363.43</td>\n",
              "      <td>4.59</td>\n",
              "      <td>41.3</td>\n",
              "    </tr>\n",
              "    <tr>\n",
              "      <th>3</th>\n",
              "      <td>3</td>\n",
              "      <td>5.66637</td>\n",
              "      <td>0.0</td>\n",
              "      <td>18.10</td>\n",
              "      <td>0</td>\n",
              "      <td>0.740</td>\n",
              "      <td>6.219</td>\n",
              "      <td>100.0</td>\n",
              "      <td>2.0048</td>\n",
              "      <td>24</td>\n",
              "      <td>666.0</td>\n",
              "      <td>20.2</td>\n",
              "      <td>395.69</td>\n",
              "      <td>16.59</td>\n",
              "      <td>18.4</td>\n",
              "    </tr>\n",
              "    <tr>\n",
              "      <th>4</th>\n",
              "      <td>4</td>\n",
              "      <td>0.04544</td>\n",
              "      <td>0.0</td>\n",
              "      <td>3.24</td>\n",
              "      <td>0</td>\n",
              "      <td>0.460</td>\n",
              "      <td>6.144</td>\n",
              "      <td>32.2</td>\n",
              "      <td>5.8736</td>\n",
              "      <td>4</td>\n",
              "      <td>430.0</td>\n",
              "      <td>16.9</td>\n",
              "      <td>368.57</td>\n",
              "      <td>9.09</td>\n",
              "      <td>19.8</td>\n",
              "    </tr>\n",
              "  </tbody>\n",
              "</table>\n",
              "</div>\n",
              "      <button class=\"colab-df-convert\" onclick=\"convertToInteractive('df-bb057150-f6cc-43f4-a2dc-48337aa7bb02')\"\n",
              "              title=\"Convert this dataframe to an interactive table.\"\n",
              "              style=\"display:none;\">\n",
              "        \n",
              "  <svg xmlns=\"http://www.w3.org/2000/svg\" height=\"24px\"viewBox=\"0 0 24 24\"\n",
              "       width=\"24px\">\n",
              "    <path d=\"M0 0h24v24H0V0z\" fill=\"none\"/>\n",
              "    <path d=\"M18.56 5.44l.94 2.06.94-2.06 2.06-.94-2.06-.94-.94-2.06-.94 2.06-2.06.94zm-11 1L8.5 8.5l.94-2.06 2.06-.94-2.06-.94L8.5 2.5l-.94 2.06-2.06.94zm10 10l.94 2.06.94-2.06 2.06-.94-2.06-.94-.94-2.06-.94 2.06-2.06.94z\"/><path d=\"M17.41 7.96l-1.37-1.37c-.4-.4-.92-.59-1.43-.59-.52 0-1.04.2-1.43.59L10.3 9.45l-7.72 7.72c-.78.78-.78 2.05 0 2.83L4 21.41c.39.39.9.59 1.41.59.51 0 1.02-.2 1.41-.59l7.78-7.78 2.81-2.81c.8-.78.8-2.07 0-2.86zM5.41 20L4 18.59l7.72-7.72 1.47 1.35L5.41 20z\"/>\n",
              "  </svg>\n",
              "      </button>\n",
              "      \n",
              "  <style>\n",
              "    .colab-df-container {\n",
              "      display:flex;\n",
              "      flex-wrap:wrap;\n",
              "      gap: 12px;\n",
              "    }\n",
              "\n",
              "    .colab-df-convert {\n",
              "      background-color: #E8F0FE;\n",
              "      border: none;\n",
              "      border-radius: 50%;\n",
              "      cursor: pointer;\n",
              "      display: none;\n",
              "      fill: #1967D2;\n",
              "      height: 32px;\n",
              "      padding: 0 0 0 0;\n",
              "      width: 32px;\n",
              "    }\n",
              "\n",
              "    .colab-df-convert:hover {\n",
              "      background-color: #E2EBFA;\n",
              "      box-shadow: 0px 1px 2px rgba(60, 64, 67, 0.3), 0px 1px 3px 1px rgba(60, 64, 67, 0.15);\n",
              "      fill: #174EA6;\n",
              "    }\n",
              "\n",
              "    [theme=dark] .colab-df-convert {\n",
              "      background-color: #3B4455;\n",
              "      fill: #D2E3FC;\n",
              "    }\n",
              "\n",
              "    [theme=dark] .colab-df-convert:hover {\n",
              "      background-color: #434B5C;\n",
              "      box-shadow: 0px 1px 3px 1px rgba(0, 0, 0, 0.15);\n",
              "      filter: drop-shadow(0px 1px 2px rgba(0, 0, 0, 0.3));\n",
              "      fill: #FFFFFF;\n",
              "    }\n",
              "  </style>\n",
              "\n",
              "      <script>\n",
              "        const buttonEl =\n",
              "          document.querySelector('#df-bb057150-f6cc-43f4-a2dc-48337aa7bb02 button.colab-df-convert');\n",
              "        buttonEl.style.display =\n",
              "          google.colab.kernel.accessAllowed ? 'block' : 'none';\n",
              "\n",
              "        async function convertToInteractive(key) {\n",
              "          const element = document.querySelector('#df-bb057150-f6cc-43f4-a2dc-48337aa7bb02');\n",
              "          const dataTable =\n",
              "            await google.colab.kernel.invokeFunction('convertToInteractive',\n",
              "                                                     [key], {});\n",
              "          if (!dataTable) return;\n",
              "\n",
              "          const docLinkHtml = 'Like what you see? Visit the ' +\n",
              "            '<a target=\"_blank\" href=https://colab.research.google.com/notebooks/data_table.ipynb>data table notebook</a>'\n",
              "            + ' to learn more about interactive tables.';\n",
              "          element.innerHTML = '';\n",
              "          dataTable['output_type'] = 'display_data';\n",
              "          await google.colab.output.renderOutput(dataTable, element);\n",
              "          const docLink = document.createElement('div');\n",
              "          docLink.innerHTML = docLinkHtml;\n",
              "          element.appendChild(docLink);\n",
              "        }\n",
              "      </script>\n",
              "    </div>\n",
              "  </div>\n",
              "  "
            ]
          },
          "metadata": {},
          "execution_count": 46
        }
      ],
      "source": [
        "df_train=pd.read_csv('https://raw.githubusercontent.com/KISHOREVD/Machine_learning-assigments/main/Boston_house_train.csv')\n",
        "df_train.head()"
      ]
    },
    {
      "cell_type": "code",
      "execution_count": 47,
      "id": "a227f67a",
      "metadata": {
        "execution": {
          "iopub.execute_input": "2022-05-11T08:46:54.570777Z",
          "iopub.status.busy": "2022-05-11T08:46:54.570329Z",
          "iopub.status.idle": "2022-05-11T08:46:54.595443Z",
          "shell.execute_reply": "2022-05-11T08:46:54.594126Z"
        },
        "papermill": {
          "duration": 0.059912,
          "end_time": "2022-05-11T08:46:54.598031",
          "exception": false,
          "start_time": "2022-05-11T08:46:54.538119",
          "status": "completed"
        },
        "tags": [],
        "colab": {
          "base_uri": "https://localhost:8080/"
        },
        "id": "a227f67a",
        "outputId": "1fc042b7-0f5c-4408-c4c7-4d1c2ed5fdda"
      },
      "outputs": [
        {
          "output_type": "stream",
          "name": "stdout",
          "text": [
            "<class 'pandas.core.frame.DataFrame'>\n",
            "RangeIndex: 400 entries, 0 to 399\n",
            "Data columns (total 15 columns):\n",
            " #   Column   Non-Null Count  Dtype  \n",
            "---  ------   --------------  -----  \n",
            " 0   ID       400 non-null    int64  \n",
            " 1   CRIM     400 non-null    float64\n",
            " 2   ZN       400 non-null    float64\n",
            " 3   INDUS    400 non-null    float64\n",
            " 4   CHAS     400 non-null    int64  \n",
            " 5   NOX      400 non-null    float64\n",
            " 6   RM       400 non-null    float64\n",
            " 7   AGE      400 non-null    float64\n",
            " 8   DIS      400 non-null    float64\n",
            " 9   RAD      400 non-null    int64  \n",
            " 10  TAX      400 non-null    float64\n",
            " 11  PTRATIO  400 non-null    float64\n",
            " 12  B        400 non-null    float64\n",
            " 13  LSTAT    400 non-null    float64\n",
            " 14  MEDV     400 non-null    float64\n",
            "dtypes: float64(12), int64(3)\n",
            "memory usage: 47.0 KB\n"
          ]
        }
      ],
      "source": [
        "df_train.info()"
      ]
    },
    {
      "cell_type": "markdown",
      "id": "562eb311",
      "metadata": {
        "papermill": {
          "duration": 0.031872,
          "end_time": "2022-05-11T08:46:54.664293",
          "exception": false,
          "start_time": "2022-05-11T08:46:54.632421",
          "status": "completed"
        },
        "tags": [],
        "id": "562eb311"
      },
      "source": [
        "### Data Cleaning"
      ]
    },
    {
      "cell_type": "markdown",
      "id": "d17b3c46",
      "metadata": {
        "papermill": {
          "duration": 0.031197,
          "end_time": "2022-05-11T08:46:54.728072",
          "exception": false,
          "start_time": "2022-05-11T08:46:54.696875",
          "status": "completed"
        },
        "tags": [],
        "id": "d17b3c46"
      },
      "source": [
        "#### Check for Missing Data"
      ]
    },
    {
      "cell_type": "code",
      "execution_count": 25,
      "id": "a16cb335",
      "metadata": {
        "execution": {
          "iopub.execute_input": "2022-05-11T08:46:54.795550Z",
          "iopub.status.busy": "2022-05-11T08:46:54.794730Z",
          "iopub.status.idle": "2022-05-11T08:46:54.803773Z",
          "shell.execute_reply": "2022-05-11T08:46:54.801792Z"
        },
        "papermill": {
          "duration": 0.044729,
          "end_time": "2022-05-11T08:46:54.806457",
          "exception": false,
          "start_time": "2022-05-11T08:46:54.761728",
          "status": "completed"
        },
        "tags": [],
        "colab": {
          "base_uri": "https://localhost:8080/"
        },
        "id": "a16cb335",
        "outputId": "3dfafd06-4627-4327-e5d8-fc984beb8c1c"
      },
      "outputs": [
        {
          "output_type": "execute_result",
          "data": {
            "text/plain": [
              "ID         0\n",
              "CRIM       0\n",
              "ZN         0\n",
              "INDUS      0\n",
              "CHAS       0\n",
              "NOX        0\n",
              "RM         0\n",
              "AGE        0\n",
              "DIS        0\n",
              "RAD        0\n",
              "TAX        0\n",
              "PTRATIO    0\n",
              "B          0\n",
              "LSTAT      0\n",
              "MEDV       0\n",
              "dtype: int64"
            ]
          },
          "metadata": {},
          "execution_count": 25
        }
      ],
      "source": [
        "df_train.isnull().sum()"
      ]
    },
    {
      "cell_type": "markdown",
      "id": "6e5e5f8d",
      "metadata": {
        "papermill": {
          "duration": 0.033657,
          "end_time": "2022-05-11T08:46:58.125563",
          "exception": false,
          "start_time": "2022-05-11T08:46:58.091906",
          "status": "completed"
        },
        "tags": [],
        "id": "6e5e5f8d"
      },
      "source": [
        "#### Data Visualization"
      ]
    },
    {
      "cell_type": "code",
      "execution_count": 26,
      "id": "29bdc717",
      "metadata": {
        "execution": {
          "iopub.execute_input": "2022-05-11T08:46:58.196022Z",
          "iopub.status.busy": "2022-05-11T08:46:58.195705Z",
          "iopub.status.idle": "2022-05-11T08:46:59.403554Z",
          "shell.execute_reply": "2022-05-11T08:46:59.402567Z"
        },
        "papermill": {
          "duration": 1.24776,
          "end_time": "2022-05-11T08:46:59.407066",
          "exception": false,
          "start_time": "2022-05-11T08:46:58.159306",
          "status": "completed"
        },
        "tags": [],
        "colab": {
          "base_uri": "https://localhost:8080/",
          "height": 627
        },
        "id": "29bdc717",
        "outputId": "c2825f66-3c13-493f-fb8c-76cbf4a60b56"
      },
      "outputs": [
        {
          "output_type": "display_data",
          "data": {
            "text/plain": [
              "<Figure size 720x720 with 2 Axes>"
            ],
            "image/png": "[encoded data removed]"
          },
          "metadata": {
            "needs_background": "light"
          }
        }
      ],
      "source": [
        "# Heatmap\n",
        "corr_matrix = df_train.corr()\n",
        "plt.figure(figsize = (10,10))\n",
        "sns_plot=sns.heatmap(corr_matrix,annot=True)\n",
        "plt.show()"
      ]
    },
    {
      "cell_type": "markdown",
      "id": "4cea411c",
      "metadata": {
        "papermill": {
          "duration": 0.03736,
          "end_time": "2022-05-11T08:46:59.482296",
          "exception": false,
          "start_time": "2022-05-11T08:46:59.444936",
          "status": "completed"
        },
        "tags": [],
        "id": "4cea411c"
      },
      "source": [
        "## Data Preprocessing\n"
      ]
    },
    {
      "cell_type": "markdown",
      "id": "47d0036b",
      "metadata": {
        "papermill": {
          "duration": 0.036605,
          "end_time": "2022-05-11T08:46:59.555974",
          "exception": false,
          "start_time": "2022-05-11T08:46:59.519369",
          "status": "completed"
        },
        "tags": [],
        "id": "47d0036b"
      },
      "source": [
        "### Splitting Data"
      ]
    },
    {
      "cell_type": "code",
      "source": [
        "df_train.drop([\"MEDV\"],axis=1,inplace=True)"
      ],
      "metadata": {
        "id": "gluKCdOPM2JB"
      },
      "id": "gluKCdOPM2JB",
      "execution_count": 27,
      "outputs": []
    },
    {
      "cell_type": "code",
      "execution_count": 28,
      "id": "c88b9767",
      "metadata": {
        "execution": {
          "iopub.execute_input": "2022-05-11T08:46:59.632745Z",
          "iopub.status.busy": "2022-05-11T08:46:59.632247Z",
          "iopub.status.idle": "2022-05-11T08:46:59.638864Z",
          "shell.execute_reply": "2022-05-11T08:46:59.638130Z"
        },
        "papermill": {
          "duration": 0.047093,
          "end_time": "2022-05-11T08:46:59.640911",
          "exception": false,
          "start_time": "2022-05-11T08:46:59.593818",
          "status": "completed"
        },
        "tags": [],
        "id": "c88b9767"
      },
      "outputs": [],
      "source": [
        "y_train=df_train.iloc[:,-1].values\n",
        "X_train=df_train.iloc[:,:-1].values"
      ]
    },
    {
      "cell_type": "code",
      "source": [
        "df_test=pd.read_csv(\"https://raw.githubusercontent.com/KISHOREVD/Machine_learning-assigments/main/Boston_house_test.csv\")"
      ],
      "metadata": {
        "id": "ZL8ToqQvMdqy"
      },
      "id": "ZL8ToqQvMdqy",
      "execution_count": 29,
      "outputs": []
    },
    {
      "cell_type": "code",
      "source": [
        "y_test=df_test.iloc[:,-1].values\n",
        "X_test=df_test.iloc[:,:-1].values"
      ],
      "metadata": {
        "id": "-MAZ3IjDMkCp"
      },
      "id": "-MAZ3IjDMkCp",
      "execution_count": 30,
      "outputs": []
    },
    {
      "cell_type": "markdown",
      "id": "041c37e2",
      "metadata": {
        "papermill": {
          "duration": 0.037638,
          "end_time": "2022-05-11T08:46:59.888325",
          "exception": false,
          "start_time": "2022-05-11T08:46:59.850687",
          "status": "completed"
        },
        "tags": [],
        "id": "041c37e2"
      },
      "source": [
        "### Select and Train a Model\n"
      ]
    },
    {
      "cell_type": "code",
      "execution_count": 31,
      "id": "f28fdf14",
      "metadata": {
        "execution": {
          "iopub.execute_input": "2022-05-11T08:46:59.966589Z",
          "iopub.status.busy": "2022-05-11T08:46:59.965971Z",
          "iopub.status.idle": "2022-05-11T08:47:00.064443Z",
          "shell.execute_reply": "2022-05-11T08:47:00.063582Z"
        },
        "papermill": {
          "duration": 0.140777,
          "end_time": "2022-05-11T08:47:00.067356",
          "exception": false,
          "start_time": "2022-05-11T08:46:59.926579",
          "status": "completed"
        },
        "tags": [],
        "colab": {
          "base_uri": "https://localhost:8080/"
        },
        "id": "f28fdf14",
        "outputId": "75450342-9716-47dc-f893-44e1363786b0"
      },
      "outputs": [
        {
          "output_type": "stream",
          "name": "stdout",
          "text": [
            "R squared of Linear Regression for Test Date : 0.4824298621387696\n"
          ]
        }
      ],
      "source": [
        "from sklearn.linear_model import LinearRegression\n",
        "from sklearn.metrics import r2_score\n",
        "\n",
        "lin_reg = LinearRegression()\n",
        "lin_reg.fit(X_train,y_train)\n",
        "lin_pred_test = lin_reg.predict(X_test)\n",
        "r2_test = r2_score(y_test,lin_pred_test)\n",
        "print('R squared of Linear Regression for Test Date :', r2_test)\n"
      ]
    },
    {
      "cell_type": "markdown",
      "id": "571e067e",
      "metadata": {
        "papermill": {
          "duration": 0.039009,
          "end_time": "2022-05-11T08:47:00.146256",
          "exception": false,
          "start_time": "2022-05-11T08:47:00.107247",
          "status": "completed"
        },
        "tags": [],
        "id": "571e067e"
      },
      "source": [
        "###  Normalization"
      ]
    },
    {
      "cell_type": "code",
      "execution_count": 32,
      "id": "660c83d4",
      "metadata": {
        "execution": {
          "iopub.execute_input": "2022-05-11T08:47:00.226182Z",
          "iopub.status.busy": "2022-05-11T08:47:00.225892Z",
          "iopub.status.idle": "2022-05-11T08:47:00.233365Z",
          "shell.execute_reply": "2022-05-11T08:47:00.232483Z"
        },
        "papermill": {
          "duration": 0.050565,
          "end_time": "2022-05-11T08:47:00.236017",
          "exception": false,
          "start_time": "2022-05-11T08:47:00.185452",
          "status": "completed"
        },
        "tags": [],
        "colab": {
          "base_uri": "https://localhost:8080/"
        },
        "id": "660c83d4",
        "outputId": "471de5ab-da30-42a0-8152-9424da9bd2c0"
      },
      "outputs": [
        {
          "output_type": "stream",
          "name": "stdout",
          "text": [
            "0.0\n",
            "1.0000000000000002\n"
          ]
        }
      ],
      "source": [
        "from sklearn.preprocessing import MinMaxScaler\n",
        "scaler = MinMaxScaler()\n",
        "X_train_scaled = scaler.fit_transform(X_train)\n",
        "X_test_scaled = scaler.transform(X_test)\n",
        "\n",
        "print(np.min(X_train_scaled))\n",
        "print(np.max(X_train_scaled))"
      ]
    },
    {
      "cell_type": "markdown",
      "id": "ae1af863",
      "metadata": {
        "papermill": {
          "duration": 0.03804,
          "end_time": "2022-05-11T08:47:00.313714",
          "exception": false,
          "start_time": "2022-05-11T08:47:00.275674",
          "status": "completed"
        },
        "tags": [],
        "id": "ae1af863"
      },
      "source": [
        "### Fit the Model after Scaling "
      ]
    },
    {
      "cell_type": "code",
      "execution_count": 33,
      "id": "04775c91",
      "metadata": {
        "execution": {
          "iopub.execute_input": "2022-05-11T08:47:00.392501Z",
          "iopub.status.busy": "2022-05-11T08:47:00.391806Z",
          "iopub.status.idle": "2022-05-11T08:47:00.400904Z",
          "shell.execute_reply": "2022-05-11T08:47:00.400111Z"
        },
        "papermill": {
          "duration": 0.050909,
          "end_time": "2022-05-11T08:47:00.403056",
          "exception": false,
          "start_time": "2022-05-11T08:47:00.352147",
          "status": "completed"
        },
        "tags": [],
        "colab": {
          "base_uri": "https://localhost:8080/"
        },
        "id": "04775c91",
        "outputId": "fc587e25-e3b0-4f96-91f0-f4fa2c4252f3"
      },
      "outputs": [
        {
          "output_type": "stream",
          "name": "stdout",
          "text": [
            "R squared of Linear Regression for Test Date : 0.4824298621387684\n"
          ]
        }
      ],
      "source": [
        "lin_reg = LinearRegression()\n",
        "lin_reg.fit(X_train_scaled,y_train)\n",
        "lin_pred_test = lin_reg.predict(X_test_scaled)\n",
        "lin_pred_train = lin_reg.predict(X_train_scaled)\n",
        "r2_test = r2_score(y_test,lin_pred_test)\n",
        "print('R squared of Linear Regression for Test Date :', r2_test)"
      ]
    },
    {
      "cell_type": "markdown",
      "id": "cf7d4815",
      "metadata": {
        "papermill": {
          "duration": 0.039464,
          "end_time": "2022-05-11T08:47:00.481803",
          "exception": false,
          "start_time": "2022-05-11T08:47:00.442339",
          "status": "completed"
        },
        "tags": [],
        "id": "cf7d4815"
      },
      "source": [
        "### Adding Polynomial Features"
      ]
    },
    {
      "cell_type": "code",
      "execution_count": 34,
      "id": "4238a146",
      "metadata": {
        "execution": {
          "iopub.execute_input": "2022-05-11T08:47:00.561769Z",
          "iopub.status.busy": "2022-05-11T08:47:00.561339Z",
          "iopub.status.idle": "2022-05-11T08:47:00.593482Z",
          "shell.execute_reply": "2022-05-11T08:47:00.592521Z"
        },
        "papermill": {
          "duration": 0.076568,
          "end_time": "2022-05-11T08:47:00.597596",
          "exception": false,
          "start_time": "2022-05-11T08:47:00.521028",
          "status": "completed"
        },
        "tags": [],
        "colab": {
          "base_uri": "https://localhost:8080/"
        },
        "id": "4238a146",
        "outputId": "5ffc5449-a355-4cc4-c511-4ebe0d53d458"
      },
      "outputs": [
        {
          "output_type": "stream",
          "name": "stdout",
          "text": [
            "R squared of Linear Regression for Test Date : 0.42533961905283824\n"
          ]
        }
      ],
      "source": [
        "from sklearn.preprocessing import PolynomialFeatures\n",
        "from tqdm import tqdm\n",
        "\n",
        "poly_fea = PolynomialFeatures(degree=2)\n",
        "X_poly_train  = poly_fea.fit_transform(X_train)\n",
        "X_poly_test  = poly_fea.fit_transform(X_test)\n",
        "lin_reg.fit(X_poly_train,y_train)\n",
        "lin_pred_test = lin_reg.predict(X_poly_test)\n",
        "r2_test = r2_score(y_test,lin_pred_test)\n",
        "print('R squared of Linear Regression for Test Date :', r2_test)"
      ]
    },
    {
      "cell_type": "code",
      "execution_count": 35,
      "id": "8293319e",
      "metadata": {
        "execution": {
          "iopub.execute_input": "2022-05-11T08:47:00.749058Z",
          "iopub.status.busy": "2022-05-11T08:47:00.748763Z",
          "iopub.status.idle": "2022-05-11T08:47:00.755711Z",
          "shell.execute_reply": "2022-05-11T08:47:00.755135Z"
        },
        "papermill": {
          "duration": 0.050642,
          "end_time": "2022-05-11T08:47:00.757929",
          "exception": false,
          "start_time": "2022-05-11T08:47:00.707287",
          "status": "completed"
        },
        "tags": [],
        "colab": {
          "base_uri": "https://localhost:8080/"
        },
        "id": "8293319e",
        "outputId": "43fa3b05-ba75-4442-adf8-140e3b68d772"
      },
      "outputs": [
        {
          "output_type": "stream",
          "name": "stdout",
          "text": [
            "0.0\n",
            "1.0000000000000002\n"
          ]
        }
      ],
      "source": [
        "scaler = MinMaxScaler()\n",
        "X_train_scaled = scaler.fit_transform(X_poly_train)\n",
        "X_test_scaled = scaler.transform(X_poly_test)\n",
        "\n",
        "print(np.min(X_train_scaled))\n",
        "print(np.max(X_train_scaled))"
      ]
    },
    {
      "cell_type": "markdown",
      "id": "c3845476",
      "metadata": {
        "papermill": {
          "duration": 0.040251,
          "end_time": "2022-05-11T08:47:00.839424",
          "exception": false,
          "start_time": "2022-05-11T08:47:00.799173",
          "status": "completed"
        },
        "tags": [],
        "id": "c3845476"
      },
      "source": [
        "### Fit the Model after Scaling and Adding  Polynomial Features"
      ]
    },
    {
      "cell_type": "code",
      "execution_count": 36,
      "id": "fbbff71e",
      "metadata": {
        "execution": {
          "iopub.execute_input": "2022-05-11T08:47:00.920583Z",
          "iopub.status.busy": "2022-05-11T08:47:00.920142Z",
          "iopub.status.idle": "2022-05-11T08:47:00.957373Z",
          "shell.execute_reply": "2022-05-11T08:47:00.955511Z"
        },
        "papermill": {
          "duration": 0.081673,
          "end_time": "2022-05-11T08:47:00.960938",
          "exception": false,
          "start_time": "2022-05-11T08:47:00.879265",
          "status": "completed"
        },
        "tags": [],
        "colab": {
          "base_uri": "https://localhost:8080/"
        },
        "id": "fbbff71e",
        "outputId": "1e15e33b-17ba-4eae-ccde-269d219f8f79"
      },
      "outputs": [
        {
          "output_type": "stream",
          "name": "stdout",
          "text": [
            "R squared of Linear Regression for Test Date : 0.4554817088298406\n"
          ]
        }
      ],
      "source": [
        "lin_reg.fit(X_train_scaled,y_train)\n",
        "lin_pred_test = lin_reg.predict(X_test_scaled)\n",
        "r2_test = r2_score(y_test,lin_pred_test)\n",
        "print('R squared of Linear Regression for Test Date :', r2_test)"
      ]
    },
    {
      "cell_type": "markdown",
      "id": "583e7f06",
      "metadata": {
        "papermill": {
          "duration": 0.041073,
          "end_time": "2022-05-11T08:47:01.119201",
          "exception": false,
          "start_time": "2022-05-11T08:47:01.078128",
          "status": "completed"
        },
        "tags": [],
        "id": "583e7f06"
      },
      "source": [
        "### Regularization techniques"
      ]
    },
    {
      "cell_type": "markdown",
      "id": "131f6ff9",
      "metadata": {
        "papermill": {
          "duration": 0.039822,
          "end_time": "2022-05-11T08:47:01.199840",
          "exception": false,
          "start_time": "2022-05-11T08:47:01.160018",
          "status": "completed"
        },
        "tags": [],
        "id": "131f6ff9"
      },
      "source": [
        "#### Ridge regressor\n"
      ]
    },
    {
      "cell_type": "code",
      "execution_count": 37,
      "id": "eeaebd9f",
      "metadata": {
        "execution": {
          "iopub.execute_input": "2022-05-11T08:47:01.288019Z",
          "iopub.status.busy": "2022-05-11T08:47:01.287676Z",
          "iopub.status.idle": "2022-05-11T08:47:01.316230Z",
          "shell.execute_reply": "2022-05-11T08:47:01.310937Z"
        },
        "papermill": {
          "duration": 0.078599,
          "end_time": "2022-05-11T08:47:01.320786",
          "exception": false,
          "start_time": "2022-05-11T08:47:01.242187",
          "status": "completed"
        },
        "tags": [],
        "colab": {
          "base_uri": "https://localhost:8080/"
        },
        "id": "eeaebd9f",
        "outputId": "f51db5a4-2b65-4c1b-84ac-9f01db22cf49"
      },
      "outputs": [
        {
          "output_type": "stream",
          "name": "stdout",
          "text": [
            "R Squared of test dataset: 0.4913510735573664\n"
          ]
        }
      ],
      "source": [
        "from sklearn.linear_model import Ridge\n",
        "\n",
        "ridge =  Ridge(alpha = 0.05)\n",
        "ridge.fit(X_train_scaled, y_train)\n",
        "ridge_pred_test = ridge.predict(X_test_scaled)\n",
        "n_test = r2_score(y_test,ridge_pred_test)\n",
        "print('R Squared of test dataset: {}'.format(n_test))"
      ]
    },
    {
      "cell_type": "code",
      "execution_count": 38,
      "id": "188ace2a",
      "metadata": {
        "execution": {
          "iopub.execute_input": "2022-05-11T08:47:01.479899Z",
          "iopub.status.busy": "2022-05-11T08:47:01.479584Z",
          "iopub.status.idle": "2022-05-11T08:47:01.671069Z",
          "shell.execute_reply": "2022-05-11T08:47:01.670227Z"
        },
        "papermill": {
          "duration": 0.236661,
          "end_time": "2022-05-11T08:47:01.673501",
          "exception": false,
          "start_time": "2022-05-11T08:47:01.436840",
          "status": "completed"
        },
        "tags": [],
        "colab": {
          "base_uri": "https://localhost:8080/",
          "height": 295
        },
        "id": "188ace2a",
        "outputId": "a023b56f-f8ef-4738-af06-8dc740a746fd"
      },
      "outputs": [
        {
          "output_type": "display_data",
          "data": {
            "text/plain": [
              "<Figure size 432x288 with 1 Axes>"
            ],
            "image/png": "[encoded data removed]"
          },
          "metadata": {
            "needs_background": "light"
          }
        }
      ],
      "source": [
        "plt.scatter(ridge_pred_test, y_test, s=20)\n",
        "plt.plot([y_test.min(), y_test.max()], [y_test.min(), y_test.max()], 'r')\n",
        "plt.ylabel(\"True\")\n",
        "plt.xlabel(\"Predicted\")\n",
        "plt.title(\"Linear Regression (Test)\")\n",
        "plt.show()"
      ]
    },
    {
      "cell_type": "code",
      "source": [
        "from sklearn.linear_model import Lasso\n",
        "\n",
        "Las =  Ridge(alpha = 0.5)\n",
        "Las.fit(X_train_scaled, y_train)\n",
        "Las_pred_test = Las.predict(X_test_scaled)\n",
        "n_test = r2_score(y_test,Las_pred_test)\n",
        "print('R Squared of test dataset: {}'.format(n_test))"
      ],
      "metadata": {
        "colab": {
          "base_uri": "https://localhost:8080/"
        },
        "id": "CzMEvDvNNjZa",
        "outputId": "5a1f2a35-0b36-4f6b-8f1c-f17c8b5db1bf"
      },
      "id": "CzMEvDvNNjZa",
      "execution_count": 39,
      "outputs": [
        {
          "output_type": "stream",
          "name": "stdout",
          "text": [
            "R Squared of test dataset: 0.4882379668954586\n"
          ]
        }
      ]
    },
    {
      "cell_type": "code",
      "source": [
        "plt.scatter(Las_pred_test, y_test, s=20)\n",
        "plt.plot([y_test.min(), y_test.max()], [y_test.min(), y_test.max()], 'r')\n",
        "plt.ylabel(\"True\")\n",
        "plt.xlabel(\"Predicted\")\n",
        "plt.title(\"Linear Regression (Test)\")\n",
        "plt.show()"
      ],
      "metadata": {
        "colab": {
          "base_uri": "https://localhost:8080/",
          "height": 295
        },
        "id": "KFl3srPQODkp",
        "outputId": "1e1c7827-db0a-4b8c-e9ef-1c94371e038f"
      },
      "id": "KFl3srPQODkp",
      "execution_count": 40,
      "outputs": [
        {
          "output_type": "display_data",
          "data": {
            "text/plain": [
              "<Figure size 432x288 with 1 Axes>"
            ],
            "image/png": "[encoded data removed]"
          },
          "metadata": {
            "needs_background": "light"
          }
        }
      ]
    },
    {
      "cell_type": "code",
      "source": [
        "from sklearn.feature_selection import SequentialFeatureSelector\n",
        "estimator = LinearRegression()\n",
        "sfs = SequentialFeatureSelector(estimator, n_features_to_select=5)  # finding top 5 features\n",
        "sfs.fit(X_train, y_train)\n",
        "print(list(zip(df_train.columns,sfs.get_support())))\n",
        "\n",
        "# we can try our model with CRIM,RM,AGE,RAD,B columns "
      ],
      "metadata": {
        "colab": {
          "base_uri": "https://localhost:8080/"
        },
        "id": "ao3ufMEJOn-B",
        "outputId": "7a15f0b6-d9a2-4d3a-c2c7-bd7bff4a21a0"
      },
      "id": "ao3ufMEJOn-B",
      "execution_count": 41,
      "outputs": [
        {
          "output_type": "stream",
          "name": "stdout",
          "text": [
            "[('ID', False), ('CRIM', True), ('ZN', False), ('INDUS', False), ('CHAS', False), ('NOX', False), ('RM', True), ('AGE', True), ('DIS', False), ('RAD', True), ('TAX', False), ('PTRATIO', False), ('B', True)]\n"
          ]
        }
      ]
    },
    {
      "cell_type": "code",
      "source": [
        "X_train=df_train[[\"CRIM\",\"RM\",\"AGE\",\"RAD\",\"B\"]]\n",
        "X_test=df_test[[\"CRIM\",\"RM\",\"AGE\",\"RAD\",\"B\"]]"
      ],
      "metadata": {
        "id": "XFU-UNqgO93z"
      },
      "id": "XFU-UNqgO93z",
      "execution_count": 42,
      "outputs": []
    },
    {
      "cell_type": "code",
      "source": [
        "from sklearn.linear_model import LinearRegression\n",
        "from sklearn.metrics import r2_score\n",
        "\n",
        "lin_reg = LinearRegression()\n",
        "lin_reg.fit(X_train,y_train)\n",
        "lin_pred_test = lin_reg.predict(X_test)\n",
        "r2_test = r2_score(y_test,lin_pred_test)\n",
        "print('R squared of Linear Regression for Test Date :', r2_test)"
      ],
      "metadata": {
        "colab": {
          "base_uri": "https://localhost:8080/"
        },
        "id": "XXzPoQqEEIlA",
        "outputId": "bd476525-8d7e-4f96-a087-5916d3916f0b"
      },
      "id": "XXzPoQqEEIlA",
      "execution_count": 44,
      "outputs": [
        {
          "output_type": "stream",
          "name": "stdout",
          "text": [
            "R squared of Linear Regression for Test Date : 0.5008216641181024\n"
          ]
        }
      ]
    },
    {
      "cell_type": "code",
      "source": [
        "from sklearn.linear_model import Ridge\n",
        "ridge =  Ridge(alpha = 0.05)\n",
        "ridge.fit(X_train, y_train)\n",
        "ridge_pred_test = ridge.predict(X_test)\n",
        "n_test = r2_score(y_test,ridge_pred_test)\n",
        "print('R Squared of test dataset: {}'.format(n_test))"
      ],
      "metadata": {
        "colab": {
          "base_uri": "https://localhost:8080/"
        },
        "id": "SVBAYiEyEAHX",
        "outputId": "e950ea27-c401-49b8-cc35-4560752844f4"
      },
      "id": "SVBAYiEyEAHX",
      "execution_count": 43,
      "outputs": [
        {
          "output_type": "stream",
          "name": "stdout",
          "text": [
            "R Squared of test dataset: 0.5008752802771282\n"
          ]
        }
      ]
    }
  ],
  "metadata": {
    "kernelspec": {
      "display_name": "Python 3",
      "language": "python",
      "name": "python3"
    },
    "language_info": {
      "codemirror_mode": {
        "name": "ipython",
        "version": 3
      },
      "file_extension": ".py",
      "mimetype": "text/x-python",
      "name": "python",
      "nbconvert_exporter": "python",
      "pygments_lexer": "ipython3",
      "version": "3.7.12"
    },
    "papermill": {
      "default_parameters": {},
      "duration": 20.506923,
      "end_time": "2022-05-11T08:47:02.894480",
      "environment_variables": {},
      "exception": null,
      "input_path": "__notebook__.ipynb",
      "output_path": "__notebook__.ipynb",
      "parameters": {},
      "start_time": "2022-05-11T08:46:42.387557",
      "version": "2.3.4"
    },
    "colab": {
      "name": "Boston_housing.ipynb",
      "provenance": []
    }
  },
  "nbformat": 4,
  "nbformat_minor": 5
}